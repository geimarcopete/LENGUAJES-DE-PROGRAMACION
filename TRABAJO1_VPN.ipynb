{
  "nbformat": 4,
  "nbformat_minor": 0,
  "metadata": {
    "colab": {
      "provenance": []
    },
    "kernelspec": {
      "name": "python3",
      "display_name": "Python 3"
    },
    "language_info": {
      "name": "python"
    }
  },
  "cells": [
    {
      "cell_type": "markdown",
      "source": [],
      "metadata": {
        "id": "TBxKQ5Tfuqr4"
      }
    },
    {
      "cell_type": "markdown",
      "source": [
        "# VALOR PRESENTE NETO **(VPN)**\n",
        "El Valor Presente Neto (VPN) es un indicador financiero que mide la rentabilidad de un proyecto o inversión al comparar el valor actual de los flujos de caja futuros con la inversión inicial.\n",
        "Un VPN positivo indica que el proyecto genera valor para la empresa y crea riqueza para los inversionistas; un VPN negativo señala que destruye valor y no es recomendable.\n",
        "\n",
        "En términos gerenciales, el VPN es una herramienta clave para la toma de decisiones estratégicas, ya que permite priorizar proyectos que realmente contribuyen a la generación de valor, asegurar un uso eficiente de los recursos y respaldar decisiones de inversión con un criterio cuantitativo claro.\n",
        "\n",
        "## Formula del Valor Presente Neto\n",
        "La formula del Valor presente Neto se expresa de la siguiente manera:\n",
        "\n",
        "\\[\n",
        "\n",
        "$$\n",
        "VPN = \\sum_{t=1}^{n} \\frac{C_t}{(1+r)^t} - C_0\n",
        "$$\n",
        "\n",
        "\\]\n",
        "\n",
        "Donde:\n",
        "\n",
        "- \\(C_t\\): flujo de caja en el tiempo (t).  \n",
        "- \\(r\\): tasa de descuento.  \n",
        "- \\(n\\): número total de periodos.  \n",
        "- \\(C_0\\): inversión inicial.\n",
        "\n",
        "## Interpretación\n",
        "- Si **VPN > 0**, la inversión es rentable.  \n",
        "- Si **VPN < 0**, la inversión no es rentable.  \n",
        "- Si **VPN = 0**, la inversión no genera ni pérdidas ni ganancias.\n",
        "\n",
        "## Enlace de consulta adiccional sobre el valor presente neto **(VPN)**\n",
        "Para obtener más información sobre el Valor Presente Neto **(VPN)** y profundizar en su aplicación práctica, puedes consultar el siguiente recurso haciendo clic en el siguiente [Hipervínculo.](https://es.wikipedia.org/wiki/Valor_actual_neto)\n",
        "\n",
        "## Descripción del proyecto: ##\n"
      ],
      "metadata": {
        "id": "gvDpAYdnv53r"
      }
    },
    {
      "cell_type": "code",
      "source": [
        "inversion_inicial = 10000\n",
        "flujo_ano_1 = 3000\n",
        "flujo_ano_2 = 3000\n",
        "flujo_ano_3 = 3000\n",
        "tasa_descuento = 0.05\n",
        "\n",
        "print(\"Inversión inicial:\", inversion_inicial)\n",
        "print(\"Flujos esperados:\", flujo_ano_1, flujo_ano_2, flujo_ano_3)\n",
        "print(\"Tasa de descuento:\", tasa_descuento*100, \"%\")"
      ],
      "metadata": {
        "colab": {
          "base_uri": "https://localhost:8080/"
        },
        "id": "VcVNbqFy3SKA",
        "outputId": "a60dc315-a436-4a2c-a7e4-a2424087782b"
      },
      "execution_count": 22,
      "outputs": [
        {
          "output_type": "stream",
          "name": "stdout",
          "text": [
            "Inversión inicial: 10000\n",
            "Flujos esperados: 3000 3000 3000\n",
            "Tasa de descuento: 5.0 %\n"
          ]
        }
      ]
    },
    {
      "cell_type": "markdown",
      "source": [
        "## Calculo del Valor Presente Neto ##"
      ],
      "metadata": {
        "id": "i0MHsUbn4jGj"
      }
    },
    {
      "cell_type": "code",
      "source": [
        "vpn = (flujo_ano_1 / (1 + tasa_descuento)**1) + \\\n",
        "      (flujo_ano_2 / (1 + tasa_descuento)**2) + \\\n",
        "      (flujo_ano_3 / (1 + tasa_descuento)**3) - inversion_inicial\n",
        "\n",
        "print(\"\\nEl Valor Presente Neto (VPN) del proyecto es:\", round(vpn, 2))\n"
      ],
      "metadata": {
        "colab": {
          "base_uri": "https://localhost:8080/"
        },
        "id": "_I9USaFj4R0R",
        "outputId": "7281147b-2157-4391-a8a7-8c25031b2b37"
      },
      "execution_count": 23,
      "outputs": [
        {
          "output_type": "stream",
          "name": "stdout",
          "text": [
            "\n",
            "El Valor Presente Neto (VPN) del proyecto es: -1830.26\n"
          ]
        }
      ]
    },
    {
      "cell_type": "markdown",
      "source": [
        "## Interpretación del Resultado ##"
      ],
      "metadata": {
        "id": "5UhU6DYD636z"
      }
    },
    {
      "cell_type": "code",
      "source": [
        "print(\"\\nInterpretación:\")\n",
        "if vpn > 0:\n",
        "    print(\"El proyecto es viable, ya que el VPN es positivo.\")\n",
        "elif vpn < 0:\n",
        "    print(\"El proyecto no es viable, ya que el VPN es negativo.\")\n",
        "else:\n",
        "    print(\"El proyecto es indiferente, ya que el VPN es igual a 0.\")"
      ],
      "metadata": {
        "colab": {
          "base_uri": "https://localhost:8080/"
        },
        "id": "3fEkmxBN6llk",
        "outputId": "0baf49ec-8a86-4982-f903-3fe0962b5c67"
      },
      "execution_count": 24,
      "outputs": [
        {
          "output_type": "stream",
          "name": "stdout",
          "text": [
            "\n",
            "Interpretación:\n",
            "El proyecto no es viable, ya que el VPN es negativo.\n"
          ]
        }
      ]
    }
  ]
}