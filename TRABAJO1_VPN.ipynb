{
  "nbformat": 4,
  "nbformat_minor": 0,
  "metadata": {
    "colab": {
      "provenance": []
    },
    "kernelspec": {
      "name": "python3",
      "display_name": "Python 3"
    },
    "language_info": {
      "name": "python"
    }
  },
  "cells": [
    {
      "cell_type": "markdown",
      "source": [],
      "metadata": {
        "id": "TBxKQ5Tfuqr4"
      }
    },
    {
      "cell_type": "markdown",
      "source": [
        "# VALOR PRESENTE NETO **(VPN)**\n",
        "El Valor Presente Neto (VPN) es un indicador financiero que mide la rentabilidad de un proyecto o inversión al comparar el valor actual de los flujos de caja futuros con la inversión inicial.\n",
        "Un VPN positivo indica que el proyecto genera valor para la empresa y crea riqueza para los inversionistas; un VPN negativo señala que destruye valor y no es recomendable.\n",
        "\n",
        "En términos gerenciales, el VPN es una herramienta clave para la toma de decisiones estratégicas, ya que permite priorizar proyectos que realmente contribuyen a la generación de valor, asegurar un uso eficiente de los recursos y respaldar decisiones de inversión con un criterio cuantitativo claro.\n",
        "\n",
        "## Formula del Valor Presente Neto\n",
        "La formula del Valor presente Neto se expresa de la siguiente manera:\n",
        "\n",
        "\\[\n",
        "\n",
        "$$\n",
        "VPN = \\sum_{t=1}^{n} \\frac{C_t}{(1+r)^t} - C_0\n",
        "$$\n",
        "\n",
        "\\]\n",
        "\n",
        "Donde:\n",
        "\n",
        "- \\(C_t\\): flujo de caja en el tiempo (t).  \n",
        "- \\(r\\): tasa de descuento.  \n",
        "- \\(n\\): número total de periodos.  \n",
        "- \\(C_0\\): inversión inicial.\n",
        "\n",
        "## Interpretación\n",
        "- Si **VPN > 0**, la inversión es rentable.  \n",
        "- Si **VPN < 0**, la inversión no es rentable.  \n",
        "- Si **VPN = 0**, la inversión no genera ni pérdidas ni ganancias.\n",
        "\n",
        "## Enlace de consulta adiccional sobre el valor presente neto **(VPN)**\n",
        "Para obtener más información sobre el Valor Presente Neto **(VPN)** y profundizar en su aplicación práctica, puedes consultar el siguiente recurso haciendo clic en el siguiente [Hipervínculo.](https://es.wikipedia.org/wiki/Valor_actual_neto)\n",
        "\n",
        "## Descripción del proyecto: ##\n"
      ],
      "metadata": {
        "id": "gvDpAYdnv53r"
      }
    },
    {
      "cell_type": "code",
      "source": [
        "inversion_inicial = 1500000\n",
        "flujo_ano_1 = 4000000\n",
        "flujo_ano_2 = 4000000\n",
        "flujo_ano_3 = 8000000\n",
        "tasa_descuento = 0.02\n",
        "\n",
        "print(\"Inversión inicial:\", inversion_inicial)\n",
        "print(\"Flujos esperados:\", flujo_ano_1, flujo_ano_2, flujo_ano_3)\n",
        "print(\"Tasa de descuento:\", tasa_descuento*100, \"%\")"
      ],
      "metadata": {
        "colab": {
          "base_uri": "https://localhost:8080/"
        },
        "id": "VcVNbqFy3SKA",
        "outputId": "4841dec3-9902-4d1a-9b23-2642282ff9fd"
      },
      "execution_count": 19,
      "outputs": [
        {
          "output_type": "stream",
          "name": "stdout",
          "text": [
            "Inversión inicial: 1500000\n",
            "Flujos esperados: 4000000 4000000 8000000\n",
            "Tasa de descuento: 2.0 %\n"
          ]
        }
      ]
    },
    {
      "cell_type": "markdown",
      "source": [
        "## Calculo del Valor Presente Neto ##"
      ],
      "metadata": {
        "id": "i0MHsUbn4jGj"
      }
    },
    {
      "cell_type": "code",
      "source": [
        "vpn = (flujo_ano_1 / (1 + tasa_descuento)**1) + \\\n",
        "      (flujo_ano_2 / (1 + tasa_descuento)**2) + \\\n",
        "      (flujo_ano_3 / (1 + tasa_descuento)**3) - inversion_inicial\n",
        "\n",
        "print(\"\\nEl Valor Presente Neto (VPN) del proyecto es:\", round(vpn, 2))\n"
      ],
      "metadata": {
        "colab": {
          "base_uri": "https://localhost:8080/"
        },
        "id": "_I9USaFj4R0R",
        "outputId": "5d489ef1-83cf-4906-99e7-703beb9c86ea"
      },
      "execution_count": 20,
      "outputs": [
        {
          "output_type": "stream",
          "name": "stdout",
          "text": [
            "\n",
            "El Valor Presente Neto (VPN) del proyecto es: 13804822.43\n"
          ]
        }
      ]
    },
    {
      "cell_type": "markdown",
      "source": [
        "## Interpretación del Resultado ##"
      ],
      "metadata": {
        "id": "5UhU6DYD636z"
      }
    },
    {
      "cell_type": "code",
      "source": [
        "print(\"\\nInterpretación:\")\n",
        "if vpn > 0:\n",
        "    print(\"El proyecto es viable, ya que el VPN es positivo.\")\n",
        "elif vpn < 0:\n",
        "    print(\"El proyecto no es viable, ya que el VPN es negativo.\")\n",
        "else:\n",
        "    print(\"El proyecto es indiferente, ya que el VPN es igual a 0.\")"
      ],
      "metadata": {
        "colab": {
          "base_uri": "https://localhost:8080/"
        },
        "id": "3fEkmxBN6llk",
        "outputId": "8c2c73e0-e492-4a44-cdf4-f2280a504ba1"
      },
      "execution_count": 21,
      "outputs": [
        {
          "output_type": "stream",
          "name": "stdout",
          "text": [
            "\n",
            "Interpretación:\n",
            "El proyecto es viable, ya que el VPN es positivo.\n"
          ]
        }
      ]
    }
  ]
}